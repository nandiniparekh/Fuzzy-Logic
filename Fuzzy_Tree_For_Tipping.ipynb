{
  "nbformat": 4,
  "nbformat_minor": 0,
  "metadata": {
    "colab": {
      "provenance": [],
      "toc_visible": true,
      "include_colab_link": true
    },
    "kernelspec": {
      "name": "python3",
      "display_name": "Python 3"
    },
    "language_info": {
      "name": "python"
    }
  },
  "cells": [
    {
      "cell_type": "markdown",
      "metadata": {
        "id": "view-in-github",
        "colab_type": "text"
      },
      "source": [
        "<a href=\"https://colab.research.google.com/github/nandiniparekh/Fuzzy-Logic/blob/main/Fuzzy_Tree_For_Tipping.ipynb\" target=\"_parent\"><img src=\"https://colab.research.google.com/assets/colab-badge.svg\" alt=\"Open In Colab\"/></a>"
      ]
    },
    {
      "cell_type": "markdown",
      "source": [
        "# Fuzzy Tree For Tipping"
      ],
      "metadata": {
        "id": "47nDP4OzVvFc"
      }
    },
    {
      "cell_type": "markdown",
      "source": [
        "## Imports"
      ],
      "metadata": {
        "id": "IjwojlINX0fT"
      }
    },
    {
      "cell_type": "code",
      "source": [
        "!pip install scikit-fuzzy"
      ],
      "metadata": {
        "colab": {
          "base_uri": "https://localhost:8080/"
        },
        "id": "o9F1KfhtV0s4",
        "outputId": "9b99bbb6-ba45-4b97-e140-e3594f340aeb"
      },
      "execution_count": null,
      "outputs": [
        {
          "output_type": "stream",
          "name": "stdout",
          "text": [
            "Requirement already satisfied: scikit-fuzzy in /usr/local/lib/python3.10/dist-packages (0.4.2)\n",
            "Requirement already satisfied: numpy>=1.6.0 in /usr/local/lib/python3.10/dist-packages (from scikit-fuzzy) (1.23.5)\n",
            "Requirement already satisfied: scipy>=0.9.0 in /usr/local/lib/python3.10/dist-packages (from scikit-fuzzy) (1.11.3)\n",
            "Requirement already satisfied: networkx>=1.9.0 in /usr/local/lib/python3.10/dist-packages (from scikit-fuzzy) (3.2)\n"
          ]
        }
      ]
    },
    {
      "cell_type": "code",
      "source": [
        "import numpy as np\n",
        "import skfuzzy as fuzz\n",
        "from skfuzzy import control as ctrl"
      ],
      "metadata": {
        "id": "8apFz_ppXv8j"
      },
      "execution_count": null,
      "outputs": []
    },
    {
      "cell_type": "markdown",
      "source": [
        "## Define Input Attributes"
      ],
      "metadata": {
        "id": "b_UULk_OX-5g"
      }
    },
    {
      "cell_type": "markdown",
      "source": [
        "The tip is calculated based on the quality of the food and the service.\n",
        "\n",
        "The quality of the food is dependent on the following attributes\n",
        "\n",
        "\n",
        "1.   Temperature\n",
        "2.   Flavor\n",
        "3.   Portion Size\n",
        "\n",
        "The quality of the service is dependent on the following attributes\n",
        "\n",
        "1. Attentiveness\n",
        "2. Friendliness\n",
        "3. Speed of Service\n",
        "\n",
        "All these input attributes, along with their respective outputs are defined here.\n",
        "\n"
      ],
      "metadata": {
        "id": "IIQfm9zUi5b_"
      }
    },
    {
      "cell_type": "code",
      "source": [
        "temperature = ctrl.Antecedent(np.linspace(0, 10, 11),'temperature')\n",
        "flavor = ctrl.Antecedent(np.linspace(0, 10, 11),'flavor')\n",
        "portion_size = ctrl.Antecedent(np.linspace(0, 10, 11),'portion_size')\n",
        "food_quality = ctrl.Consequent(np.linspace(0, 10, 11),'food_quality')\n",
        "\n",
        "attentiveness = ctrl.Antecedent(np.linspace(0, 10, 11),'attentiveness')\n",
        "friendliness = ctrl.Antecedent(np.linspace(0, 10, 11),'friendliness')\n",
        "speed_of_service = ctrl.Antecedent(np.linspace(0, 10, 11),'speed_of_service')\n",
        "service = ctrl.Consequent(np.linspace(0, 10, 11),'service')\n",
        "\n",
        "tip = ctrl.Consequent(np.arange(0, 26, 1), 'tip')\n",
        "food_sim_input = ctrl.Antecedent(np.linspace(0, 10, 11),'food_sim_input')\n",
        "service_sim_input = ctrl.Antecedent(np.linspace(0, 10, 11),'service_sim_input')"
      ],
      "metadata": {
        "id": "Ng3SbbMyYC6M"
      },
      "execution_count": null,
      "outputs": []
    },
    {
      "cell_type": "markdown",
      "source": [
        "The corresponding membership functions are defined here."
      ],
      "metadata": {
        "id": "GvWAhXzIkXoZ"
      }
    },
    {
      "cell_type": "code",
      "source": [
        "temperature.automf(3)\n",
        "flavor.automf(3)\n",
        "portion_size.automf(3)\n",
        "food_quality.automf(3)\n",
        "\n",
        "attentiveness.automf(3)\n",
        "friendliness.automf(3)\n",
        "speed_of_service.automf(3)\n",
        "service.automf(3)\n",
        "\n",
        "tip.automf(3)\n",
        "food_sim_input.automf(3)\n",
        "service_sim_input.automf(3)"
      ],
      "metadata": {
        "id": "PEnSb-2MkVCS"
      },
      "execution_count": null,
      "outputs": []
    },
    {
      "cell_type": "markdown",
      "source": [
        "An example of a membership function defined above is graphed here."
      ],
      "metadata": {
        "id": "vXanKiRZkHDG"
      }
    },
    {
      "cell_type": "code",
      "source": [
        "# Shows the values of temperature and how likely they are to be poor.\n",
        "temperature['poor'].view()"
      ],
      "metadata": {
        "colab": {
          "base_uri": "https://localhost:8080/",
          "height": 451
        },
        "id": "s83eFrYTkGZM",
        "outputId": "657f4b36-8663-47f9-c2ff-2a2bfa718ed6"
      },
      "execution_count": null,
      "outputs": [
        {
          "output_type": "display_data",
          "data": {
            "text/plain": [
              "<Figure size 640x480 with 1 Axes>"
            ],
            "image/png": "[encoded data removed]"
          },
          "metadata": {}
        }
      ]
    },
    {
      "cell_type": "markdown",
      "source": [
        "## Define Rules"
      ],
      "metadata": {
        "id": "2KqRFUM-YJVJ"
      }
    },
    {
      "cell_type": "markdown",
      "source": [
        "The rules to define the output attributes are defined below.\n",
        "Food Quality and Service have similar definitions."
      ],
      "metadata": {
        "id": "0S2b02SzlOI9"
      }
    },
    {
      "cell_type": "code",
      "source": [
        "def food_quality_rules(temperature, flavor, portion_size, food_quality):\n",
        "  # if either of the attribute is poor, then food quality is poor\n",
        "  rule1_food = ctrl.Rule(temperature['poor'] | flavor['poor'] | portion_size['poor'], food_quality['poor'])\n",
        "\n",
        "  # if either is average, then food quality is average\n",
        "  rule2_food = ctrl.Rule(temperature['average'] & flavor['average'], food_quality['average'])\n",
        "  rule3_food = ctrl.Rule(flavor['average'] & portion_size['average'], food_quality['average'])\n",
        "  rule4_food = ctrl.Rule(temperature['average'] & portion_size['average'], food_quality['average'])\n",
        "\n",
        "  # if either is good, then food quality is good\n",
        "  rule5_food = ctrl.Rule(temperature['good'] & portion_size['good'], food_quality['good'])\n",
        "  rule6_food = ctrl.Rule(flavor['good'] & portion_size['good'], food_quality['good'])\n",
        "  rule7_food = ctrl.Rule(temperature['good'] & flavor['good'], food_quality['good'])\n",
        "\n",
        "  # if all are good, the food quality is good\n",
        "  rule8_food = ctrl.Rule(temperature['good'] & flavor['good'] & portion_size['good'], food_quality['good'])\n",
        "\n",
        "  # if all are average, the food quality is average\n",
        "  rule9_food = ctrl.Rule(temperature['average'] & flavor['average'] & portion_size['average'], food_quality['average'])\n",
        "\n",
        "  # if either is poor, then food quality is poor\n",
        "  rule10_food = ctrl.Rule(temperature['poor'] & portion_size['poor'], food_quality['poor'])\n",
        "  rule11_food = ctrl.Rule(flavor['poor'] & portion_size['poor'], food_quality['poor'])\n",
        "  rule12_food = ctrl.Rule(temperature['poor'] & flavor['poor'], food_quality['poor'])\n",
        "\n",
        "  food_rules = [rule1_food, rule2_food, rule3_food, rule4_food, rule5_food, rule6_food, rule7_food, rule8_food, rule9_food, rule10_food, rule11_food, rule12_food]\n",
        "  return food_rules"
      ],
      "metadata": {
        "id": "qDwH_hZ3YLXZ"
      },
      "execution_count": null,
      "outputs": []
    },
    {
      "cell_type": "code",
      "source": [
        "def service_quality_rules(attentiveness, friendliness, speed_of_service, service):\n",
        "  rule1_service = ctrl.Rule(attentiveness['poor'] | friendliness['poor'] | speed_of_service['poor'], service['poor'])\n",
        "  rule2_service = ctrl.Rule(attentiveness['average'] & friendliness['average'], service['average'])\n",
        "  rule3_service = ctrl.Rule(friendliness['average'] & speed_of_service['average'], service['average'])\n",
        "  rule4_service = ctrl.Rule(attentiveness['average'] & speed_of_service['average'], service['average'])\n",
        "  rule5_service = ctrl.Rule(attentiveness['good'] & speed_of_service['good'], service['good'])\n",
        "  rule6_service = ctrl.Rule(friendliness['good'] & speed_of_service['good'], service['good'])\n",
        "  rule7_service = ctrl.Rule(attentiveness['good'] & friendliness['good'], service['good'])\n",
        "  rule8_service = ctrl.Rule(attentiveness['good'] & speed_of_service['good'] & friendliness['good'], service['good'])\n",
        "  rule9_service = ctrl.Rule(attentiveness['average'] & friendliness['average'] & speed_of_service['average'], service['average'])\n",
        "  rule10_service = ctrl.Rule(attentiveness['poor'] & speed_of_service['poor'], service['poor'])\n",
        "  rule11_service = ctrl.Rule(friendliness['poor'] & speed_of_service['poor'], service['poor'])\n",
        "  rule12_service = ctrl.Rule(attentiveness['poor'] & friendliness['poor'], service['poor'])\n",
        "\n",
        "  service_rules = [rule1_service, rule2_service, rule3_service, rule4_service, rule5_service, rule6_service, rule7_service, rule8_service, rule9_service, rule10_service, rule11_service, rule12_service]\n",
        "  return service_rules"
      ],
      "metadata": {
        "id": "nl4Z4sekY7DJ"
      },
      "execution_count": null,
      "outputs": []
    },
    {
      "cell_type": "code",
      "source": [
        "def tip_calc_rules(food_sim_input, service_sim_input, tip):\n",
        "  # if either is poor, tip is poor\n",
        "  rule1_tip = ctrl.Rule(food_sim_input['poor'] | service_sim_input['poor'], tip['poor'])\n",
        "  rule2_tip = ctrl.Rule(food_sim_input['average'] & service_sim_input['poor'], tip['poor'])\n",
        "  rule3_tip = ctrl.Rule(food_sim_input['poor'] & service_sim_input['average'], tip['poor'])\n",
        "  rule4_tip = ctrl.Rule(food_sim_input['good'] & service_sim_input['poor'], tip['poor'])\n",
        "  rule5_tip = ctrl.Rule(food_sim_input['poor'] & service_sim_input['good'], tip['poor'])\n",
        "\n",
        "\n",
        "  # if both are poor, tip is poor\n",
        "  rule6_tip = ctrl.Rule(food_sim_input['poor'] & service_sim_input['poor'], tip['poor'])\n",
        "\n",
        "   # if both are average, tip is average\n",
        "  rule7_tip = ctrl.Rule(food_sim_input['average'] & service_sim_input['average'], tip['average'])\n",
        "\n",
        "   # if both are good, tip is good\n",
        "  rule8_tip = ctrl.Rule(food_sim_input['good'] & service_sim_input['good'], tip['good'])\n",
        "\n",
        "   # if either is average, tip is average\n",
        "  rule9_tip = ctrl.Rule(food_sim_input['good'] & service_sim_input['average'], tip['average'])\n",
        "  rule10_tip = ctrl.Rule(food_sim_input['average'] & service_sim_input['good'], tip['average'])\n",
        "\n",
        "  tip_rules = [rule1_tip, rule2_tip,rule3_tip,rule4_tip,rule5_tip,rule6_tip,rule7_tip,rule8_tip,rule9_tip,rule10_tip]\n",
        "  return tip_rules"
      ],
      "metadata": {
        "id": "YrOhl88xY-CQ"
      },
      "execution_count": null,
      "outputs": []
    },
    {
      "cell_type": "code",
      "source": [
        "food_rules = food_quality_rules(temperature, flavor, portion_size, food_quality)\n",
        "service_rules = service_quality_rules(attentiveness, friendliness, speed_of_service, service)\n",
        "tip_rules = tip_calc_rules(food_sim_input, service_sim_input, tip)"
      ],
      "metadata": {
        "id": "AmpuIwiQZaPp"
      },
      "execution_count": null,
      "outputs": []
    },
    {
      "cell_type": "markdown",
      "source": [
        "## Control Systems"
      ],
      "metadata": {
        "id": "VO_aEIv6ZEpS"
      }
    },
    {
      "cell_type": "markdown",
      "source": [
        "Based on the rules drfined above, the control systems can be defined below.\n",
        "\n",
        "There are a total of 3 control systems defined here,\n",
        "\n",
        "\n",
        "1.  Food Quality Control System\n",
        "2.  Service Control System\n",
        "3. Tip Control System\n",
        "\n"
      ],
      "metadata": {
        "id": "yTrQ4vAemKPJ"
      }
    },
    {
      "cell_type": "code",
      "source": [
        "def control_systems(temp_value=0, flavor_value=0, portion_value=0, attentiveness_value=0, friendliness_value=0, speed_value=0):\n",
        "  food_ctrl = ctrl.ControlSystem(food_rules)\n",
        "  food_sim = ctrl.ControlSystemSimulation(food_ctrl)\n",
        "\n",
        "  food_sim.input['temperature'] = temp_value\n",
        "  food_sim.input['flavor'] = flavor_value\n",
        "  food_sim.input['portion_size'] = portion_value\n",
        "\n",
        "  food_sim.compute()\n",
        "\n",
        "  food_sim_output = food_sim.output['food_quality']\n",
        "\n",
        "  service_ctrl = ctrl.ControlSystem(service_rules)\n",
        "  service_sim = ctrl.ControlSystemSimulation(service_ctrl)\n",
        "\n",
        "\n",
        "  service_sim.input['attentiveness'] = attentiveness_value\n",
        "  service_sim.input['friendliness'] = friendliness_value\n",
        "  service_sim.input['speed_of_service'] = speed_value\n",
        "\n",
        "  service_sim.compute()\n",
        "\n",
        "  service_sim_output = service_sim.output['service']\n",
        "\n",
        "  tip_ctrl = ctrl.ControlSystem(tip_rules)\n",
        "  tip_sim = ctrl.ControlSystemSimulation(tip_ctrl)\n",
        "\n",
        "  tip_sim.input['food_sim_input'] = food_sim_output\n",
        "  tip_sim.input['service_sim_input'] = service_sim_output\n",
        "\n",
        "  tip_sim.compute()\n",
        "  tip_calc = tip_sim.output['tip']\n",
        "\n",
        "  return tip_calc"
      ],
      "metadata": {
        "id": "Y4bMZz7_ZHN2"
      },
      "execution_count": null,
      "outputs": []
    },
    {
      "cell_type": "markdown",
      "source": [
        "## User Input"
      ],
      "metadata": {
        "id": "qp36BBe_mlhI"
      }
    },
    {
      "cell_type": "markdown",
      "source": [
        "Get user's input and calculate the tip based on the ratings of each input attribute."
      ],
      "metadata": {
        "id": "BhLl932_mrKF"
      }
    },
    {
      "cell_type": "code",
      "source": [
        "class RatingNotInRange(Exception):\n",
        "    def __init__(self, rating, message=\"Raing is not in (0, 10) range\"):\n",
        "        self.rating = rating\n",
        "        self.message = message\n",
        "        super().__init__(self.message)"
      ],
      "metadata": {
        "id": "37vqEah1ep_8"
      },
      "execution_count": null,
      "outputs": []
    },
    {
      "cell_type": "code",
      "source": [
        "def get_input_values():\n",
        "  run_loop = True\n",
        "  all_values = True\n",
        "\n",
        "  print(\"All ratings are in the range of 0-10\")\n",
        "  while run_loop:\n",
        "    temp_value = float(input(\"Enter your temperature rating: \"))\n",
        "    if not 0 <= temp_value <= 10:\n",
        "      print(\"Error. Not in range\")\n",
        "      all_values = False\n",
        "      break\n",
        "    flavor_value = float(input(\"Enter your flavor rating: \"))\n",
        "    if not 0 <= flavor_value <= 10:\n",
        "      print(\"Error. Not in range\")\n",
        "      all_values = False\n",
        "      break\n",
        "    portion_value = float(input(\"Enter your portion size rating: \"))\n",
        "    if not 0 <= portion_value <= 10:\n",
        "      print(\"Error. Not in range\")\n",
        "      all_values = False\n",
        "      break\n",
        "    attentiveness_value = float(input(\"Enter your attentiveness rating: \"))\n",
        "    if not 0 <= attentiveness_value <= 10:\n",
        "      print(\"Error. Not in range\")\n",
        "      all_values = False\n",
        "      break\n",
        "    friendliness_value = float(input(\"Enter your friendliness rating: \"))\n",
        "    if not 0 <= friendliness_value <= 10:\n",
        "      print(\"Error. Not in range\")\n",
        "      all_values = False\n",
        "      break\n",
        "    speed_value = float(input(\"Enter your speed of service rating: \"))\n",
        "    if not 0 <= speed_value <= 10:\n",
        "      print(\"Error. Not in range\")\n",
        "      all_values = False\n",
        "      break\n",
        "\n",
        "    all_values = True\n",
        "    run_loop = False\n",
        "\n",
        "  if (all_values == False):\n",
        "    temp_value = 0\n",
        "    flavor_value = 0\n",
        "    portion_value = 0\n",
        "    attentiveness_value = 0\n",
        "    friendliness_value = 0\n",
        "    speed_value = 0\n",
        "\n",
        "  return all_values, temp_value, flavor_value, portion_value, attentiveness_value, friendliness_value, speed_value\n",
        "\n",
        "\n"
      ],
      "metadata": {
        "id": "4JHcmZY1bGHe"
      },
      "execution_count": null,
      "outputs": []
    },
    {
      "cell_type": "markdown",
      "source": [
        "## Pipeline"
      ],
      "metadata": {
        "id": "1N-Pwc3Nm3dt"
      }
    },
    {
      "cell_type": "markdown",
      "source": [
        "Combines all the functions and returns the calculated tip based on user inputs"
      ],
      "metadata": {
        "id": "yq1ZJG--m4zX"
      }
    },
    {
      "cell_type": "code",
      "source": [
        "def pipeline():\n",
        "  all_values, temp_value, flavor_value, portion_value, attentiveness_value, friendliness_value, speed_value = get_input_values()\n",
        "\n",
        "  if (all_values):\n",
        "    tip = control_systems(temp_value, flavor_value, portion_value, attentiveness_value, friendliness_value, speed_value)\n",
        "    print(\"Tip is \", tip)\n",
        "\n",
        "  else:\n",
        "    print(\"\\nTip not calculated\")\n"
      ],
      "metadata": {
        "id": "BeFUkQnNhd5z"
      },
      "execution_count": null,
      "outputs": []
    },
    {
      "cell_type": "code",
      "source": [
        "pipeline()"
      ],
      "metadata": {
        "colab": {
          "base_uri": "https://localhost:8080/"
        },
        "id": "HkgkzttRh5G8",
        "outputId": "ac151da1-83ec-4237-b353-4b6f31f98adf"
      },
      "execution_count": null,
      "outputs": [
        {
          "output_type": "stream",
          "name": "stdout",
          "text": [
            "All ratings are in the range of 0-10\n",
            "Enter your temperature rating: 10\n",
            "Enter your flavor rating: 10\n",
            "Enter your portion size rating: 10\n",
            "Enter your attentiveness rating: 10\n",
            "Enter your friendliness rating: 8.7\n",
            "Enter your speed of service rating: 6\n",
            "Tip is  12.998514731874971\n"
          ]
        }
      ]
    }
  ]
}